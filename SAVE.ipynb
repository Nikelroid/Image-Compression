{
 "cells": [
  {
   "cell_type": "markdown",
   "metadata": {},
   "source": [
    "**Matrix Computations** project (save part) \\\n",
    "*Lossy image compression using Singular Value Decompostion and Fast Fourier Transform*\n",
    "## Nima Kelidari - 98108124 ##\n",
    "**Matrix Computations course - Dr. razvan**"
   ]
  },
  {
   "cell_type": "markdown",
   "metadata": {},
   "source": [
    "**Step0:** Import essential libraries"
   ]
  },
  {
   "cell_type": "code",
   "execution_count": 851,
   "metadata": {},
   "outputs": [],
   "source": [
    "import cv2 \n",
    "import numpy as np \n",
    "import imageio\n",
    "import os\n",
    "import shutil"
   ]
  },
  {
   "cell_type": "markdown",
   "metadata": {},
   "source": [
    "**Step1:** Define compression values"
   ]
  },
  {
   "cell_type": "code",
   "execution_count": 852,
   "metadata": {},
   "outputs": [],
   "source": [
    "#name = input('Input your file name (.png):')\n",
    "name = 'pepper'"
   ]
  },
  {
   "cell_type": "code",
   "execution_count": 853,
   "metadata": {},
   "outputs": [
    {
     "name": "stdout",
     "output_type": "stream",
     "text": [
      "3.0000000000000013\n"
     ]
    }
   ],
   "source": [
    "channels = ['b','g','r']\n",
    "#name = 'spotify'\n",
    "comp = 450\n",
    "#threshhold -= 16\n",
    "scale = 1.4\n",
    "con_type = (2**15)-1\n"
   ]
  },
  {
   "cell_type": "markdown",
   "metadata": {},
   "source": [
    "**Step2:** Loading image and resize"
   ]
  },
  {
   "cell_type": "code",
   "execution_count": 854,
   "metadata": {},
   "outputs": [],
   "source": [
    "img = cv2.imread(f'{name}.png')\n",
    "img = cv2.resize(img, (0,0), fx=1/scale, fy=1/scale)\n",
    "try:  \n",
    "    os.mkdir(f'{name}')  \n",
    "except OSError as error:  \n",
    "    print(error)   "
   ]
  },
  {
   "cell_type": "markdown",
   "metadata": {},
   "source": [
    "**Step3:** Define Save function for saving image as a folder"
   ]
  },
  {
   "cell_type": "code",
   "execution_count": 855,
   "metadata": {},
   "outputs": [],
   "source": [
    "def save(name,img):\n",
    "\n",
    "    config = channels.copy()\n",
    "    config.append(con_type)\n",
    "    config.append(scale)\n",
    "    np.save(f'{name}/config.npy',config)\n",
    "\n",
    "    def save_channel(th,color,u,s,v):\n",
    "        uu = u[:,:th]\n",
    "        vv = v[:th,:]\n",
    "        ss = s[:th]\n",
    "\n",
    "        mu = np.max(np.abs(uu))\n",
    "        mv = np.max(np.abs(uu))\n",
    "\n",
    "        im_u = np.array(np.round(((uu/mu)*con_type)+con_type),dtype = 'uint16')\n",
    "        im_v = np.array(np.round(((vv/mv)*con_type)+con_type),dtype = 'uint16')\n",
    "\n",
    "        np.save(f'{name}/max_{color}.npy',[mu,mv,th])\n",
    "        np.save(f'{name}/s_{color}.npy',ss)\n",
    "        imageio.imwrite(f'{name}/u_{color}.png',im_u)\n",
    "        imageio.imwrite(f'{name}/v_{color}.png',im_v)\n",
    "\n",
    "    for index,ch in enumerate(channels):\n",
    "        u, s, v = np.linalg.svd(img[:,:,index], full_matrices=False)\n",
    "        threshhold = len(s)\n",
    "        for ind,i in enumerate(s):\n",
    "            if i<comp:\n",
    "                threshhold = ind\n",
    "                break\n",
    "        save_channel(threshhold,ch,u,s,v) "
   ]
  },
  {
   "cell_type": "markdown",
   "metadata": {},
   "source": [
    "**Step4:** Run *save* function, Convert folder to zip and delete the folder"
   ]
  },
  {
   "cell_type": "code",
   "execution_count": 856,
   "metadata": {},
   "outputs": [],
   "source": [
    "save(name,img)\n",
    "shutil.make_archive(name, 'zip', name)\n",
    "shutil.rmtree(name)"
   ]
  }
 ],
 "metadata": {
  "kernelspec": {
   "display_name": "Python 3",
   "language": "python",
   "name": "python3"
  },
  "language_info": {
   "codemirror_mode": {
    "name": "ipython",
    "version": 3
   },
   "file_extension": ".py",
   "mimetype": "text/x-python",
   "name": "python",
   "nbconvert_exporter": "python",
   "pygments_lexer": "ipython3",
   "version": "3.9.7"
  }
 },
 "nbformat": 4,
 "nbformat_minor": 0
}
